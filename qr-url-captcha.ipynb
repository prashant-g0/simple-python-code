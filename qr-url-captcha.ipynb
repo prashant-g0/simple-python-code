{
  "nbformat": 4,
  "nbformat_minor": 0,
  "metadata": {
    "colab": {
      "provenance": []
    },
    "kernelspec": {
      "name": "python3",
      "display_name": "Python 3"
    },
    "language_info": {
      "name": "python"
    }
  },
  "cells": [
    {
      "cell_type": "markdown",
      "source": [
        "# **Generate QR Using Python**"
      ],
      "metadata": {
        "id": "zk7y9384jZI3"
      }
    },
    {
      "cell_type": "code",
      "source": [
        "!pip install pyqrcode\n"
      ],
      "metadata": {
        "colab": {
          "base_uri": "https://localhost:8080/"
        },
        "id": "U1UB6RCuI-BZ",
        "outputId": "909477fc-1b45-420a-abc4-2ea3a2192a6d"
      },
      "execution_count": null,
      "outputs": [
        {
          "output_type": "stream",
          "name": "stdout",
          "text": [
            "Collecting pyqrcode\n",
            "  Downloading PyQRCode-1.2.1.zip (41 kB)\n",
            "\u001b[?25l     \u001b[90m━━━━━━━━━━━━━━━━━━━━━━━━━━━━━━━━━━━━━━━━\u001b[0m \u001b[32m0.0/41.9 kB\u001b[0m \u001b[31m?\u001b[0m eta \u001b[36m-:--:--\u001b[0m\r\u001b[2K     \u001b[90m━━━━━━━━━━━━━━━━━━━━━━━━━━━━━━━━━━━━━━━━\u001b[0m \u001b[32m41.9/41.9 kB\u001b[0m \u001b[31m1.5 MB/s\u001b[0m eta \u001b[36m0:00:00\u001b[0m\n",
            "\u001b[?25h  Preparing metadata (setup.py) ... \u001b[?25l\u001b[?25hdone\n",
            "Building wheels for collected packages: pyqrcode\n",
            "  Building wheel for pyqrcode (setup.py) ... \u001b[?25l\u001b[?25hdone\n",
            "  Created wheel for pyqrcode: filename=PyQRCode-1.2.1-py3-none-any.whl size=36221 sha256=fd757c5e5c299212d4c1908e544cded1ad45fdc4502329f139f91b76fbbb2c49\n",
            "  Stored in directory: /root/.cache/pip/wheels/f5/db/22/ade11e0c0854d1bb2fcc673dc90f6495ee2c0d2b6eb41492e3\n",
            "Successfully built pyqrcode\n",
            "Installing collected packages: pyqrcode\n",
            "Successfully installed pyqrcode-1.2.1\n"
          ]
        }
      ]
    },
    {
      "cell_type": "code",
      "source": [
        "!pip install pypng"
      ],
      "metadata": {
        "colab": {
          "base_uri": "https://localhost:8080/"
        },
        "id": "7Mjcl1XoKTUA",
        "outputId": "1c4ab736-7503-4657-eafb-70ad854bb753"
      },
      "execution_count": null,
      "outputs": [
        {
          "output_type": "stream",
          "name": "stdout",
          "text": [
            "Collecting pypng\n",
            "  Downloading pypng-0.20220715.0-py3-none-any.whl.metadata (13 kB)\n",
            "Downloading pypng-0.20220715.0-py3-none-any.whl (58 kB)\n",
            "\u001b[?25l   \u001b[90m━━━━━━━━━━━━━━━━━━━━━━━━━━━━━━━━━━━━━━━━\u001b[0m \u001b[32m0.0/58.1 kB\u001b[0m \u001b[31m?\u001b[0m eta \u001b[36m-:--:--\u001b[0m\r\u001b[2K   \u001b[90m━━━━━━━━━━━━━━━━━━━━━━━━━━━━━━━━━━━━━━━━\u001b[0m \u001b[32m58.1/58.1 kB\u001b[0m \u001b[31m1.9 MB/s\u001b[0m eta \u001b[36m0:00:00\u001b[0m\n",
            "\u001b[?25hInstalling collected packages: pypng\n",
            "Successfully installed pypng-0.20220715.0\n"
          ]
        }
      ]
    },
    {
      "cell_type": "code",
      "source": [
        "#library to generate QR code\n",
        "import pyqrcode\n",
        "#module for handleling image file\n",
        "from PIL import Image\n",
        "\n",
        "#prompt user to give input link\n",
        "link = input(\"Enter link: \")\n",
        "#create QR code for the provided link\n",
        "qr_code = pyqrcode.create(link)\n",
        "#save the QR code as a png file\n",
        "qr_code.png(\"QRcode.png\", scale=5)\n",
        "#open and display the generated QR code image\n",
        "Image.open(\"QRcode.png\")"
      ],
      "metadata": {
        "colab": {
          "base_uri": "https://localhost:8080/",
          "height": 219
        },
        "id": "5yWqIGfKJLzj",
        "outputId": "82336f5b-34f3-4abe-d53b-1b3cda1ffdf8"
      },
      "execution_count": 19,
      "outputs": [
        {
          "name": "stdout",
          "output_type": "stream",
          "text": [
            "Enter link: open.spotify.com\n"
          ]
        },
        {
          "output_type": "execute_result",
          "data": {
            "text/plain": [
              "<PIL.PngImagePlugin.PngImageFile image mode=1 size=185x185>"
            ],
            "image/png": "[encoded data removed]",
            "image/jpeg": "[encoded data removed]"
          },
          "metadata": {},
          "execution_count": 19
        }
      ]
    },
    {
      "cell_type": "markdown",
      "source": [
        "# **URL Shortner using python**"
      ],
      "metadata": {
        "id": "moo5j6bmQD-l"
      }
    },
    {
      "cell_type": "code",
      "source": [
        "!pip install pyshorteners"
      ],
      "metadata": {
        "colab": {
          "base_uri": "https://localhost:8080/",
          "height": 0
        },
        "id": "S8QBIR2YQVoS",
        "outputId": "bc35f005-40ab-4106-9545-7723be44d9de"
      },
      "execution_count": 6,
      "outputs": [
        {
          "output_type": "stream",
          "name": "stdout",
          "text": [
            "Collecting pyshorteners\n",
            "  Downloading pyshorteners-1.0.1.tar.gz (10.0 kB)\n",
            "  Preparing metadata (setup.py) ... \u001b[?25l\u001b[?25hdone\n",
            "Requirement already satisfied: requests in /usr/local/lib/python3.11/dist-packages (from pyshorteners) (2.32.3)\n",
            "Requirement already satisfied: charset-normalizer<4,>=2 in /usr/local/lib/python3.11/dist-packages (from requests->pyshorteners) (3.4.1)\n",
            "Requirement already satisfied: idna<4,>=2.5 in /usr/local/lib/python3.11/dist-packages (from requests->pyshorteners) (3.10)\n",
            "Requirement already satisfied: urllib3<3,>=1.21.1 in /usr/local/lib/python3.11/dist-packages (from requests->pyshorteners) (2.3.0)\n",
            "Requirement already satisfied: certifi>=2017.4.17 in /usr/local/lib/python3.11/dist-packages (from requests->pyshorteners) (2024.12.14)\n",
            "Building wheels for collected packages: pyshorteners\n",
            "  Building wheel for pyshorteners (setup.py) ... \u001b[?25l\u001b[?25hdone\n",
            "  Created wheel for pyshorteners: filename=pyshorteners-1.0.1-py3-none-any.whl size=17478 sha256=c5cd613fe7a7538767f493fa60124469e696dc09ff46a86f38b149e424b55f9a\n",
            "  Stored in directory: /root/.cache/pip/wheels/40/25/54/000cc118ff192ee36c95b1374ee4c42d5d39143d940de5908a\n",
            "Successfully built pyshorteners\n",
            "Installing collected packages: pyshorteners\n",
            "Successfully installed pyshorteners-1.0.1\n"
          ]
        }
      ]
    },
    {
      "cell_type": "code",
      "source": [
        "#libray for URL shortening\n",
        "import pyshorteners\n",
        "\n",
        "#prompt user to give input\n",
        "longURL = input(\"Enter the URL: \")\n",
        "#create an instance of url shortener\n",
        "type_tiny = pyshorteners.Shortener()\n",
        "#shorten the long url using tinyurl service\n",
        "shortURL = type_tiny.tinyurl.short(longURL)\n",
        "#print the shortened url\n",
        "print(\"New URL is: \", shortURL)"
      ],
      "metadata": {
        "colab": {
          "base_uri": "https://localhost:8080/",
          "height": 0
        },
        "id": "lYrmnhEVQhUT",
        "outputId": "f4235f83-f857-49ae-8f5e-f81cfa343e56"
      },
      "execution_count": 7,
      "outputs": [
        {
          "output_type": "stream",
          "name": "stdout",
          "text": [
            "Enter the URL: colab.research.google.com\n",
            "New URL is:  https://tinyurl.com/2yzb5nhv\n"
          ]
        }
      ]
    },
    {
      "cell_type": "markdown",
      "source": [
        "# **Captcha in python**"
      ],
      "metadata": {
        "id": "OOYesIl9RVnV"
      }
    },
    {
      "cell_type": "code",
      "source": [
        "!pip install captcha"
      ],
      "metadata": {
        "colab": {
          "base_uri": "https://localhost:8080/",
          "height": 0
        },
        "id": "18KbggYoRkXt",
        "outputId": "e7351c2f-fc8e-4a80-cb5f-4aa29414e9c1"
      },
      "execution_count": 8,
      "outputs": [
        {
          "output_type": "stream",
          "name": "stdout",
          "text": [
            "Collecting captcha\n",
            "  Downloading captcha-0.6.0-py3-none-any.whl.metadata (2.1 kB)\n",
            "Requirement already satisfied: Pillow in /usr/local/lib/python3.11/dist-packages (from captcha) (11.1.0)\n",
            "Downloading captcha-0.6.0-py3-none-any.whl (102 kB)\n",
            "\u001b[?25l   \u001b[90m━━━━━━━━━━━━━━━━━━━━━━━━━━━━━━━━━━━━━━━━\u001b[0m \u001b[32m0.0/102.2 kB\u001b[0m \u001b[31m?\u001b[0m eta \u001b[36m-:--:--\u001b[0m\r\u001b[2K   \u001b[91m━━━━━━━━━━━━━━━━━━━━━━━━━━━━━━━━━━━━\u001b[0m\u001b[90m╺\u001b[0m\u001b[90m━━━\u001b[0m \u001b[32m92.2/102.2 kB\u001b[0m \u001b[31m3.3 MB/s\u001b[0m eta \u001b[36m0:00:01\u001b[0m\r\u001b[2K   \u001b[90m━━━━━━━━━━━━━━━━━━━━━━━━━━━━━━━━━━━━━━━━\u001b[0m \u001b[32m102.2/102.2 kB\u001b[0m \u001b[31m2.3 MB/s\u001b[0m eta \u001b[36m0:00:00\u001b[0m\n",
            "\u001b[?25hInstalling collected packages: captcha\n",
            "Successfully installed captcha-0.6.0\n"
          ]
        }
      ]
    },
    {
      "cell_type": "code",
      "source": [
        "# import necessary libraries\n",
        "from captcha.image import ImageCaptcha #for generating captcha images\n",
        "from PIL import Image #for handeling image files\n",
        "import random #for generating random captcha text\n",
        "import string #for using predefined character sets (letter & digits)\n",
        "\n",
        "#function to generate random captcha text\n",
        "def generate_captcha_text(length=4):\n",
        "  return ''.join(random.choices(string.ascii_letters + string.digits, k=length))\n",
        "\n",
        "#function to generate captcha image\n",
        "def generate_captch_image(captcha_text, image_width=300):\n",
        "  #initialize the captcha image generator\n",
        "  image = ImageCaptcha(image_width)\n",
        "  #define the output image file name based on the captcha text\n",
        "  image_file = f\"{captcha_text}.png\"\n",
        "  #create and save captcha image\n",
        "  image.write(captcha_text, image_file)\n",
        "  return image_file\n",
        "\n",
        "#main program execution\n",
        "#generate rendom captcha text\n",
        "captcha_text = generate_captcha_text()\n",
        "#generate and save captcha image\n",
        "image_file = generate_captch_image(captcha_text)\n",
        "#output generated captcha image\n",
        "print(f\"Generated CAPTCHA\")\n",
        "Image.open(image_file)"
      ],
      "metadata": {
        "colab": {
          "base_uri": "https://localhost:8080/",
          "height": 94
        },
        "id": "AVTJWkq8Rs2e",
        "outputId": "ff7fe4b7-c637-4a2f-f883-592c3ae2c26c"
      },
      "execution_count": 16,
      "outputs": [
        {
          "output_type": "stream",
          "name": "stdout",
          "text": [
            "Generated CAPTCHA\n"
          ]
        },
        {
          "output_type": "execute_result",
          "data": {
            "text/plain": [
              "<PIL.PngImagePlugin.PngImageFile image mode=RGB size=300x60>"
            ],
            "image/png": "[encoded data removed]",
            "image/jpeg": "[encoded data removed]"
          },
          "metadata": {},
          "execution_count": 16
        }
      ]
    }
  ]
}